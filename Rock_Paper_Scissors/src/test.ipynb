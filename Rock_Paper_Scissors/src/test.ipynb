{
 "cells": [
  {
   "cell_type": "markdown",
   "metadata": {},
   "source": [
    "- get player choice\n",
    "- get computer Choice \n",
    "- get winner\n",
    "- play again?"
   ]
  },
  {
   "cell_type": "code",
   "execution_count": 18,
   "metadata": {},
   "outputs": [],
   "source": [
    "import random\n",
    "\n",
    "\n",
    "class RockPaperScissors:\n",
    "    def __init__(self, name):\n",
    "        self.choices = ['rock', 'paper', 'scissors']\n",
    "        self.name = name\n",
    "\n",
    "    def get_player_choice(self):\n",
    "        user_choice = input(f'Enter your choice ({self.choices}): ')\n",
    "        if user_choice.lower() in self.choices:\n",
    "            return user_choice.lower()\n",
    "        \n",
    "        print(f'Invalid choice!, please select one of ({self.choices})')\n",
    "        return self.get_player_choice()\n",
    "    \n",
    "    def get_computer_choice(self):\n",
    "        return random.choice(self.choices)\n",
    "    \n",
    "    def decide_winner(self, user_choice, computer_choice):\n",
    "        if user_choice == computer_choice:\n",
    "            return \"It's a Tie!\"\n",
    "        \n",
    "        win_combination = [('rock', 'scissors'), ('scissors', 'paper'), ('paper', 'rock')]\n",
    "        for win_comb in win_combination:\n",
    "            if (user_choice == win_comb[0]) & (computer_choice == win_comb[1]):\n",
    "                return \"Congrats! You Won\"\n",
    "            \n",
    "            return \"Oh no! Computer Won the Game\"\n",
    "        \n",
    "\n",
    "        \n",
    "\n",
    "\n",
    "    def play(self):\n",
    "        user_choice = self.get_player_choice()\n",
    "        computer_choice = self.get_computer_choice()\n",
    "        winner_mesg = self.decide_winner(user_choice, computer_choice)\n",
    "        print(f'Computer_choice: {computer_choice}')\n",
    "        print(winner_mesg)\n"
   ]
  },
  {
   "cell_type": "code",
   "execution_count": 19,
   "metadata": {},
   "outputs": [
    {
     "name": "stdout",
     "output_type": "stream",
     "text": [
      "Computer_choice: paper\n",
      "Oh no! Computer Won the Game\n"
     ]
    }
   ],
   "source": [
    "game = RockPaperScissors('ashkan')\n",
    "\n",
    "while True:\n",
    "    game.play()\n",
    "\n",
    "    continue_game = input('Press any key to play again!, Enter Q/q to exit')\n",
    "    if continue_game.lower() == 'q':\n",
    "        break"
   ]
  },
  {
   "cell_type": "code",
   "execution_count": null,
   "metadata": {},
   "outputs": [],
   "source": [
    "\n"
   ]
  }
 ],
 "metadata": {
  "kernelspec": {
   "display_name": "base",
   "language": "python",
   "name": "python3"
  },
  "language_info": {
   "codemirror_mode": {
    "name": "ipython",
    "version": 3
   },
   "file_extension": ".py",
   "mimetype": "text/x-python",
   "name": "python",
   "nbconvert_exporter": "python",
   "pygments_lexer": "ipython3",
   "version": "3.9.7"
  }
 },
 "nbformat": 4,
 "nbformat_minor": 2
}
