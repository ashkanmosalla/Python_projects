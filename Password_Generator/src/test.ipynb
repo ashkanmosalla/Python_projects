{
 "cells": [
  {
   "cell_type": "markdown",
   "metadata": {},
   "source": [
    "- Parent: Password Generator\n",
    "    - abstract\n",
    "- Random Password Generator\n",
    "- Memorable Password Generator\n",
    "- Pin Generator"
   ]
  },
  {
   "cell_type": "code",
   "execution_count": 6,
   "metadata": {},
   "outputs": [],
   "source": [
    "from abc import ABC, abstractmethod\n",
    "\n",
    "\n",
    "class PasswordGenerator(ABC):\n",
    "    @abstractmethod\n",
    "    def generate(self):\n",
    "        pass\n"
   ]
  },
  {
   "cell_type": "code",
   "execution_count": 7,
   "metadata": {},
   "outputs": [],
   "source": [
    "import string\n",
    "import random\n",
    "\n",
    "\n",
    "class PinGenerator(PasswordGenerator):\n",
    "    def __init__(self, length):\n",
    "        self.length = length\n",
    "\n",
    "    def generate(self):\n",
    "        return ''.join([random.choice(string.digits) for _ in range(self.length)])"
   ]
  },
  {
   "cell_type": "code",
   "execution_count": 8,
   "metadata": {},
   "outputs": [
    {
     "data": {
      "text/plain": [
       "'2784523214'"
      ]
     },
     "execution_count": 8,
     "metadata": {},
     "output_type": "execute_result"
    }
   ],
   "source": [
    "obj = PinGenerator(length= 10)\n",
    "obj.generate()"
   ]
  },
  {
   "cell_type": "code",
   "execution_count": 9,
   "metadata": {},
   "outputs": [
    {
     "data": {
      "text/plain": [
       "'77027492'"
      ]
     },
     "execution_count": 9,
     "metadata": {},
     "output_type": "execute_result"
    }
   ],
   "source": [
    "import string\n",
    "import random\n",
    "\n",
    "string.digits\n",
    "''.join([random.choice(string.digits) for _ in range(8)])"
   ]
  },
  {
   "cell_type": "code",
   "execution_count": 10,
   "metadata": {},
   "outputs": [
    {
     "data": {
      "text/plain": [
       "'abcdefghijklmnopqrstuvwxyzABCDEFGHIJKLMNOPQRSTUVWXYZ'"
      ]
     },
     "execution_count": 10,
     "metadata": {},
     "output_type": "execute_result"
    }
   ],
   "source": [
    "string.ascii_letters"
   ]
  },
  {
   "cell_type": "code",
   "execution_count": 11,
   "metadata": {},
   "outputs": [
    {
     "data": {
      "text/plain": [
       "'!\"#$%&\\'()*+,-./:;<=>?@[\\\\]^_`{|}~'"
      ]
     },
     "execution_count": 11,
     "metadata": {},
     "output_type": "execute_result"
    }
   ],
   "source": [
    "string.punctuation"
   ]
  },
  {
   "cell_type": "code",
   "execution_count": 12,
   "metadata": {},
   "outputs": [],
   "source": [
    "import string\n",
    "\n",
    "\n",
    "class RandomPasswordGenerator(PasswordGenerator):\n",
    "    def __init__(self, length, include_numbers, include_symbols):\n",
    "        self.length = length\n",
    "        self.character = string.ascii_letters\n",
    "        if include_numbers:\n",
    "            self.character += string.digits\n",
    "        if include_symbols:\n",
    "            self.character += string.punctuation\n",
    "\n",
    "\n",
    "    def generate(self):\n",
    "        return ''.join([random.choice(self.character) for _ in range(self.length)])"
   ]
  },
  {
   "cell_type": "code",
   "execution_count": 13,
   "metadata": {},
   "outputs": [
    {
     "data": {
      "text/plain": [
       "\"ul7ccPUcS'\""
      ]
     },
     "execution_count": 13,
     "metadata": {},
     "output_type": "execute_result"
    }
   ],
   "source": [
    "obj2 = RandomPasswordGenerator(length= 10, include_numbers=True, include_symbols=True)\n",
    "obj2.generate()"
   ]
  },
  {
   "cell_type": "code",
   "execution_count": 14,
   "metadata": {},
   "outputs": [],
   "source": [
    "words = ['ashkan', 'arash', 'pesareChirinoo', 'ramin', 'matool', 'mashool', 'apply']\n",
    "\n",
    "\n",
    "class MemorablePasswordGenerator(PasswordGenerator):\n",
    "    def __init__(self, num_of_words= 4, separator= '-', capitalize= True, vocab= None):\n",
    "        if vocab is None:\n",
    "            self.vocab = nltk.corpus.words.words()\n",
    "        self.num_of_words = num_of_words\n",
    "        self.capitalize = capitalize\n",
    "        self.separator = separator\n",
    "\n",
    "\n",
    "    def generate(self):\n",
    "        password_words = [random.choice(self.vocab) for _ in range(self.num_of_words)]\n",
    "        if self.capitalize:\n",
    "            password_words = [words.upper() if random.choice([True, False]) else words.lower() for words in password_words]\n",
    "        \n",
    "        return self.separator.join(password_words)"
   ]
  },
  {
   "cell_type": "code",
   "execution_count": 15,
   "metadata": {},
   "outputs": [
    {
     "data": {
      "text/plain": [
       "'NONSACERDOTAL-PENISTONE-ESTADAL-prepositorial'"
      ]
     },
     "execution_count": 15,
     "metadata": {},
     "output_type": "execute_result"
    }
   ],
   "source": [
    "obj3 = MemorablePasswordGenerator(capitalize= True)\n",
    "obj3.generate()"
   ]
  },
  {
   "cell_type": "code",
   "execution_count": 16,
   "metadata": {},
   "outputs": [],
   "source": [
    "import nltk"
   ]
  },
  {
   "cell_type": "code",
   "execution_count": 17,
   "metadata": {},
   "outputs": [
    {
     "name": "stderr",
     "output_type": "stream",
     "text": [
      "[nltk_data] Downloading package words to\n",
      "[nltk_data]     C:\\Users\\Admin\\AppData\\Roaming\\nltk_data...\n",
      "[nltk_data]   Package words is already up-to-date!\n"
     ]
    },
    {
     "data": {
      "text/plain": [
       "True"
      ]
     },
     "execution_count": 17,
     "metadata": {},
     "output_type": "execute_result"
    }
   ],
   "source": [
    "nltk.download(\"words\")"
   ]
  },
  {
   "cell_type": "code",
   "execution_count": 18,
   "metadata": {},
   "outputs": [
    {
     "data": {
      "text/plain": [
       "236736"
      ]
     },
     "execution_count": 18,
     "metadata": {},
     "output_type": "execute_result"
    }
   ],
   "source": [
    "len(nltk.corpus.words.words())"
   ]
  },
  {
   "cell_type": "code",
   "execution_count": null,
   "metadata": {},
   "outputs": [],
   "source": []
  }
 ],
 "metadata": {
  "kernelspec": {
   "display_name": "base",
   "language": "python",
   "name": "python3"
  },
  "language_info": {
   "codemirror_mode": {
    "name": "ipython",
    "version": 3
   },
   "file_extension": ".py",
   "mimetype": "text/x-python",
   "name": "python",
   "nbconvert_exporter": "python",
   "pygments_lexer": "ipython3",
   "version": "3.9.7"
  }
 },
 "nbformat": 4,
 "nbformat_minor": 2
}
